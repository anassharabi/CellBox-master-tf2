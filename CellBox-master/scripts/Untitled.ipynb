{
 "cells": [
  {
   "cell_type": "code",
   "execution_count": 1,
   "metadata": {},
   "outputs": [
    {
     "name": "stderr",
     "output_type": "stream",
     "text": [
      "usage: ipykernel_launcher.py [-h] -config EXPERIMENT_CONFIG_PATH [-i WORKING_INDEX] [-drug DRUG_INDEX]\n",
      "ipykernel_launcher.py: error: the following arguments are required: -config/--experiment_config_path\n"
     ]
    },
    {
     "ename": "SystemExit",
     "evalue": "2",
     "output_type": "error",
     "traceback": [
      "An exception has occurred, use %tb to see the full traceback.\n",
      "\u001b[1;31mSystemExit\u001b[0m\u001b[1;31m:\u001b[0m 2\n"
     ]
    },
    {
     "name": "stderr",
     "output_type": "stream",
     "text": [
      "C:\\Users\\USER\\anaconda3\\lib\\site-packages\\IPython\\core\\interactiveshell.py:3426: UserWarning: To exit: use 'exit', 'quit', or Ctrl-D.\n",
      "  warn(\"To exit: use 'exit', 'quit', or Ctrl-D.\", stacklevel=1)\n"
     ]
    }
   ],
   "source": [
    "\"\"\"\n",
    "This is the main script which contains interactive model construction and training/testing\n",
    "\"\"\"\n",
    "#import cellbox\n",
    "import os\n",
    "import numpy as np\n",
    "import pandas as pd\n",
    "import tensorflow as tf\n",
    "import shutil\n",
    "import argparse\n",
    "import json\n",
    "\n",
    "parser = argparse.ArgumentParser(description='CellBox main script')\n",
    "parser.add_argument('-config', '--experiment_config_path', required=True, type=str, help=\"Path of experiment config\")\n",
    "parser.add_argument('-i', '--working_index', default=0, type=int)\n",
    "parser.add_argument('-drug', '--drug_index', required=False, type=int)\n",
    "master_args = parser.parse_args()\n",
    "\n",
    "\n",
    "def set_seed(in_seed):\n",
    "    int_seed = int(in_seed)\n",
    "    tf.compat.v1.set_random_seed(int_seed)\n",
    "    np.random.seed(int_seed)\n",
    "\n",
    "\n",
    "def prepare_workdir(in_cfg):\n",
    "    # Read Data\n",
    "    in_cfg.root_dir = os.getcwd()\n",
    "    in_cfg.node_index = pd.read_csv(in_cfg.node_index_file, header=None, names=None) \\\n",
    "        if hasattr(in_cfg, 'node_index_file') else pd.DataFrame(np.arange(in_cfg.n_x))\n",
    "\n",
    "    # Create Output Folder\n",
    "    experiment_path = 'results/{}_{}'.format(in_cfg.experiment_id, md5)\n",
    "    try:\n",
    "        os.makedirs(experiment_path)\n",
    "    except Exception:\n",
    "        pass\n",
    "    out_cfg = vars(in_cfg)\n",
    "    out_cfg = {key: out_cfg[key] for key in out_cfg if type(out_cfg[key]) is not pd.DataFrame}\n",
    "    os.chdir(experiment_path)\n",
    "    json.dump(out_cfg, open('config.json', 'w'), indent=4)\n",
    "\n",
    "    if \"leave one out\" in in_cfg.experiment_type:\n",
    "        try:\n",
    "            in_cfg.model_prefix = '{}_{}'.format(in_cfg.model_prefix, in_cfg.drug_index)\n",
    "        except Exception('Drug index not specified') as e:\n",
    "            raise e\n",
    "\n",
    "    in_cfg.working_index = in_cfg.model_prefix + \"_\" + str(working_index).zfill(3)\n",
    "\n",
    "    try:\n",
    "        shutil.rmtree(in_cfg.working_index)\n",
    "    except Exception:\n",
    "        pass\n",
    "    os.makedirs(in_cfg.working_index)\n",
    "    os.chdir(in_cfg.working_index)\n",
    "\n",
    "    with open(\"record_eval.csv\", 'w') as f:\n",
    "        f.write(\"epoch,iter,train_loss,valid_loss,train_mse,valid_mse,test_mse,time_elapsed\\n\")\n",
    "\n",
    "    print('Working directory is ready at {}.'.format(experiment_path))\n",
    "    return 0\n",
    "\n",
    "\n",
    "if __name__ == '__main__':\n",
    "    # Launching expr\n",
    "    working_index = master_args.working_index\n",
    "    cfg = cellbox.config.Config(master_args.experiment_config_path)\n",
    "    cfg.ckpt_path_full = os.path.join('./', cfg.ckpt_name)\n",
    "    md5 = cellbox.utils.md5(cfg)\n",
    "    cfg.drug_index = master_args.drug_index if hasattr(master_args, \"drug_index\") else None\n",
    "    cfg.seed = working_index + cfg.seed if hasattr(cfg, \"seed\") else working_index + 1000\n",
    "    set_seed(cfg.seed)\n",
    "    print(vars(cfg))\n",
    "\n",
    "    prepare_workdir(cfg)\n",
    "    logger = cellbox.utils.TimeLogger(time_logger_step=1, hierachy=3)\n",
    "    args = cfg\n",
    "    for i, stage in enumerate(cfg.stages):\n",
    "        set_seed(cfg.seed)\n",
    "        cfg = cellbox.dataset.factory(cfg)\n",
    "        logger.log(\"Training on stage {}/{} ...\".format(i + 1, len(cfg.stages)))\n",
    "        args.sub_stages = stage['sub_stages']\n",
    "        args.n_T = stage['nT']\n",
    "        model = cellbox.model.factory(args)\n",
    "        cellbox.train.train_model(model, args)\n"
   ]
  },
  {
   "cell_type": "code",
   "execution_count": null,
   "metadata": {},
   "outputs": [],
   "source": []
  }
 ],
 "metadata": {
  "kernelspec": {
   "display_name": "Python 3",
   "language": "python",
   "name": "python3"
  },
  "language_info": {
   "codemirror_mode": {
    "name": "ipython",
    "version": 3
   },
   "file_extension": ".py",
   "mimetype": "text/x-python",
   "name": "python",
   "nbconvert_exporter": "python",
   "pygments_lexer": "ipython3",
   "version": "3.8.5"
  }
 },
 "nbformat": 4,
 "nbformat_minor": 4
}
